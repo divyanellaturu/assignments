{
 "cells": [
  {
   "cell_type": "code",
   "execution_count": null,
   "id": "9336b250-f6e2-4bd4-b044-97e9a64d717a",
   "metadata": {},
   "outputs": [],
   "source": [
    "#swaping"
   ]
  },
  {
   "cell_type": "code",
   "execution_count": 3,
   "id": "a100a5fd-c685-413d-a64f-d01b08780596",
   "metadata": {},
   "outputs": [
    {
     "name": "stdout",
     "output_type": "stream",
     "text": [
      "3 6\n"
     ]
    }
   ],
   "source": [
    "a=3\n",
    "b=6\n",
    "print(a,b)"
   ]
  },
  {
   "cell_type": "code",
   "execution_count": 4,
   "id": "e09c6bfd-a4ee-4820-bdbc-9f1df1d165b8",
   "metadata": {},
   "outputs": [],
   "source": [
    "#after swaping\n",
    "a,b=b,a"
   ]
  },
  {
   "cell_type": "code",
   "execution_count": 5,
   "id": "a60c7974-1272-47a0-b63c-3eb081a922ac",
   "metadata": {},
   "outputs": [
    {
     "name": "stdout",
     "output_type": "stream",
     "text": [
      "6 3\n"
     ]
    }
   ],
   "source": [
    "print(a,b)"
   ]
  }
 ],
 "metadata": {
  "kernelspec": {
   "display_name": "Python 3 (ipykernel)",
   "language": "python",
   "name": "python3"
  },
  "language_info": {
   "codemirror_mode": {
    "name": "ipython",
    "version": 3
   },
   "file_extension": ".py",
   "mimetype": "text/x-python",
   "name": "python",
   "nbconvert_exporter": "python",
   "pygments_lexer": "ipython3",
   "version": "3.10.8"
  }
 },
 "nbformat": 4,
 "nbformat_minor": 5
}
